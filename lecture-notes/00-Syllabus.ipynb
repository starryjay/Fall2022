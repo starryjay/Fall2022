{
 "cells": [
  {
   "cell_type": "markdown",
   "metadata": {},
   "source": [
    "# PSTAT 134/234 - Statistical Data Science\n",
    "\n",
    "---\n",
    "\n",
    "## Instructor: Sang-Yun Oh\n",
    "\n",
    "- Lectures: MW 2 - 3:15 pm\n",
    "\n",
    "- Office hours via Zoom: Wednesday 9:30 - 11:30 am ([Zoom link](https://ucsb.zoom.us/j/83484145469?pwd=MmNvNjgrQWNoelhqWTBnblBuUkpBZz09))\n",
    "\n",
    "## Teaching Staff\n",
    "\n",
    "### Teaching Assistants\n",
    "\n",
    "- Robin Liu <r_liu@ucsb.edu>,\n",
    "- Jiaxi Wu <jiaxi_wu@ucsb.edu>,\n",
    "\n",
    "### Undergraduate Learning Assistants\n",
    "\n",
    "- Ryan Stofer <rstofer@ucsb.edu>,\n",
    "- Ruoxin Wang <ruoxin@ucsb.edu>"
   ]
  },
  {
   "cell_type": "markdown",
   "metadata": {},
   "source": [
    "# Course Information \n",
    "\n",
    "---\n",
    "\n",
    "## Grading\n",
    "\n",
    "* Canvas discussions (10%)\n",
    "\n",
    "* Individual in-class midterm (25%)\n",
    "\n",
    "* Individual assignments (35%)\n",
    "\n",
    "* Group final project & presentations (30%)\n",
    "\n",
    "\n",
    "## Textbooks\n",
    "\n",
    "- [Python for Data Science](https://learning.oreilly.com/library/view/python-for-data/9781098104023/) by Wes McKinney ([Access through UCSB Library](https://www.oreilly.com/library-access/))\n",
    "\n",
    "- [Python Data Science Handbook](https://jakevdp.github.io/PythonDataScienceHandbook/) by Jake Vanderplas (somewhat outdated)\n",
    "\n",
    "- Other resources as necessary\n",
    "\n",
    "\n",
    "## Learn by doing\n",
    "\n",
    "- Critical statistical thinking is crucial\n",
    "\n",
    "- Significant programming is required\n",
    "\n",
    "- Many software tools will be new \n",
    "    e.g., R, Python, command line tools, etc\n",
    "\n",
    "- Proactive attitude is a must!  \n",
    "    e.g., asking questions, discussing, experimenting, RTM (read-the-manual)\n",
    "\n",
    "- Diverse backgrounds mean you will have different strengths!  \n",
    "    Help each other, and assess your own areas of improvement\n",
    "\n",
    "- You don't have to be an expert at everything\n",
    "\n",
    "- But you have to be willing to dig deeper on your own"
   ]
  },
  {
   "cell_type": "markdown",
   "metadata": {},
   "source": [
    "# Course outline\n",
    "\n",
    "---\n",
    "\n",
    "_Dates are approximate_\n",
    "\n",
    "* **Week 1-2**: Data and uncertainty   \n",
    "    - Computing: Jupyter notebook and Python primer\n",
    "    - Reading: [Chapter 2](https://learning.oreilly.com/library/view/python-for-data/9781098104023/ch02.html) in McKinney\n",
    "        [The Unix Shell](http://swcarpentry.github.io/shell-novice/) by Software Carpentry\n",
    "    \n",
    "* **Week 3**: Data scraping, transformation, and wrangling\n",
    "    - Computing: Shell commands and Pandas\n",
    "    - Reading: [(skim) Chapter 5](https://learning.oreilly.com/library/view/python-for-data/9781098104023/ch05.html) in McKinney  \n",
    "          \n",
    "* **Week 4**: Visualization and exploratory analysis\n",
    "    - Computing: Matplotlib and Scikit-learn\n",
    "    - Reading: [(skim) Chapter 9](https://learning.oreilly.com/library/view/python-for-data/9781098104023/ch09.html) and [(skim) Chapter 12](https://learning.oreilly.com/library/view/python-for-data/9781098104023/ch12.html) in McKinney\n",
    "\n",
    "* **In-class midterm** (10/31)\n",
    "\n",
    "* **Week 5-6**: Finance data module\n",
    "               \n",
    "* **Week 7-8**: Text data module\n",
    "\n",
    "* **Week 9-10**: Final project presentations"
   ]
  },
  {
   "cell_type": "markdown",
   "metadata": {},
   "source": [
    "# Computational Environment\n",
    "\n",
    "---\n",
    "\n",
    "## Github\n",
    "\n",
    "* [Github Student Account](https://education.github.com/pack)\n",
    "\n",
    "\n",
    "## Jupyterhub\n",
    "\n",
    "* [Course Jupyter Hub](https://pstat-134-234.lsit.ucsb.edu)\n",
    "\n",
    "* PSTAT 134/234 coursework only\n",
    "\n",
    "* Your work can be inspected by teaching staff\n",
    "\n",
    "* Sign the [privacy policy](https://goo.gl/forms/pwa0FKNy6F0ZT8U32)"
   ]
  }
 ],
 "metadata": {
  "kernelspec": {
   "display_name": "Python 3 (ipykernel)",
   "language": "python",
   "name": "python3"
  },
  "language_info": {
   "codemirror_mode": {
    "name": "ipython",
    "version": 3
   },
   "file_extension": ".py",
   "mimetype": "text/x-python",
   "name": "python",
   "nbconvert_exporter": "python",
   "pygments_lexer": "ipython3",
   "version": "3.10.5"
  },
  "vscode": {
   "interpreter": {
    "hash": "d4d1e4263499bec80672ea0156c357c1ee493ec2b1c70f0acce89fc37c4a6abe"
   }
  }
 },
 "nbformat": 4,
 "nbformat_minor": 4
}
